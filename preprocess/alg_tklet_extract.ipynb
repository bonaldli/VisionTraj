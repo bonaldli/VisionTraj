{
 "cells": [
  {
   "cell_type": "code",
   "execution_count": 1,
   "metadata": {},
   "outputs": [],
   "source": [
    "import leuvenmapmatching as mm\n",
    "from leuvenmapmatching.map.inmem import InMemMap\n",
    "from leuvenmapmatching.matcher.distance import DistanceMatcher\n",
    "import pickle\n",
    "import json\n",
    "import numpy as np\n",
    "import networkx as nx\n",
    "import osmnx as ox\n",
    "import tqdm, os\n",
    "from collections import Counter, defaultdict"
   ]
  },
  {
   "cell_type": "code",
   "execution_count": 2,
   "metadata": {},
   "outputs": [],
   "source": [
    "import warnings\n",
    "\n",
    "warnings.filterwarnings(\"ignore\")"
   ]
  },
  {
   "cell_type": "code",
   "execution_count": 3,
   "metadata": {},
   "outputs": [],
   "source": [
    "data_file = map_file = \"../dataset/\"\n",
    "# G = json.load(open(map_file + \"/map.json\", 'r'))\n",
    "f = open(data_file + \"longhua_4k_sim.pkl\", \"rb\")\n",
    "G = pickle.load(f)\n",
    "for node in G.nodes:\n",
    "    x, y = G.nodes[node]['x'], G.nodes[node]['y']\n",
    "    G.nodes[node]['xy'] = [x, y]"
   ]
  },
  {
   "cell_type": "code",
   "execution_count": 4,
   "metadata": {},
   "outputs": [
    {
     "name": "stdout",
     "output_type": "stream",
     "text": [
      "4758\n"
     ]
    }
   ],
   "source": [
    "import re\n",
    "import json\n",
    "from collections import OrderedDict\n",
    "import osmnx as ox\n",
    "# 读取文本文件中的内容\n",
    "with open(\n",
    "        \"../dataset/sim_traj/trajectries.txt\",\n",
    "        \"r\") as f:\n",
    "    content = f.read()\n",
    "\n",
    "# 使用正则表达式匹配每个 vehicle 的经纬度信息\n",
    "pattern = r\"vehicle_(\\d+):(.+)\"\n",
    "matches = re.findall(pattern, content)\n",
    "\n",
    "# 将匹配到的经纬度信息转换成字典格式，并保存为 JSON 文件\n",
    "data = {}\n",
    "for match in matches:\n",
    "    vehicle_id, trajectory_str = match[0], match[1]\n",
    "    trajectory_list = []\n",
    "    for point_str in trajectory_str.split(\",\"):\n",
    "        lon_match = re.search(r\"lon:(\\d+\\.\\d+)\", point_str)\n",
    "        lat_match = re.search(r\"lat:(\\d+\\.\\d+)\", point_str)\n",
    "        if lon_match and lat_match:\n",
    "            lon, lat = float(lon_match.group(1)), float(lat_match.group(1))\n",
    "            trajectory_list.append([lon, lat])\n",
    "    ans = list(OrderedDict.fromkeys(tuple(x) for x in trajectory_list))[::16]\n",
    "    data[int(vehicle_id)] = ans\n",
    "print(len(data))"
   ]
  },
  {
   "cell_type": "code",
   "execution_count": 5,
   "metadata": {},
   "outputs": [],
   "source": [
    "tklet_path = '../dataset/sim_traj/tracklet.json'\n",
    "import json\n",
    "\n",
    "tklet = json.load(open(tklet_path, 'rb'))"
   ]
  },
  {
   "cell_type": "code",
   "execution_count": 6,
   "metadata": {},
   "outputs": [],
   "source": [
    "with open(data_file + '/traj_nodes_4k.pkl', 'rb') as f:\n",
    "    traj_nodes = pickle.load(f)\n",
    "traj_veh = defaultdict(list)\n",
    "for k in traj_nodes:\n",
    "    traj_veh[k['vehicle_id']] = np.array(\n",
    "        k['xyt'])[:, :1].astype(int).reshape(-1).tolist()"
   ]
  },
  {
   "cell_type": "code",
   "execution_count": 7,
   "metadata": {},
   "outputs": [
    {
     "data": {
      "text/plain": [
       "3931"
      ]
     },
     "execution_count": 7,
     "metadata": {},
     "output_type": "execute_result"
    }
   ],
   "source": [
    "f = open(data_file + \"longhua_1.8k.pkl\", \"rb\")\n",
    "G2 = pickle.load(f)\n",
    "for node in G2.nodes:\n",
    "    x, y = G2.nodes[node]['x'], G2.nodes[node]['y']\n",
    "    G2.nodes[node]['xy'] = [x, y]\n",
    "map_oid2nid = defaultdict()\n",
    "for n in G2.nodes():\n",
    "    if isinstance(G2.nodes()[n]['osmid_original'], int):\n",
    "        map_oid2nid[G2.nodes()[n]['osmid_original']] = n\n",
    "        continue\n",
    "    osmid = eval(G2.nodes()[n]['osmid_original'])\n",
    "    for oid in osmid:\n",
    "        map_oid2nid[oid] = n\n",
    "len(map_oid2nid.keys())"
   ]
  },
  {
   "cell_type": "code",
   "execution_count": 8,
   "metadata": {},
   "outputs": [],
   "source": [
    "for ky, vlu in traj_veh.items():\n",
    "    route = []\n",
    "    for n in traj_veh[ky]:\n",
    "        if n in map_oid2nid.keys():\n",
    "            route.append(map_oid2nid[n])\n",
    "    traj_veh[ky] = [\n",
    "        x for i, x in enumerate(route) if i == 0 or x != route[i - 1]\n",
    "    ]\n"
   ]
  },
  {
   "cell_type": "code",
   "execution_count": 9,
   "metadata": {},
   "outputs": [
    {
     "name": "stderr",
     "output_type": "stream",
     "text": [
      "100%|██████████| 44307/44307 [06:43<00:00, 109.93it/s]"
     ]
    },
    {
     "name": "stdout",
     "output_type": "stream",
     "text": [
      "0 0\n"
     ]
    },
    {
     "name": "stderr",
     "output_type": "stream",
     "text": [
      "\n"
     ]
    }
   ],
   "source": [
    "fig_tklet2node = defaultdict(list)\n",
    "cnt = 0\n",
    "cnt_true = 0\n",
    "camid2nodeid = {}\n",
    "for fig_id in tqdm.tqdm(tklet.keys()):\n",
    "    lon_match = re.search(r\"lon:(\\d+\\.\\d+)\", tklet[fig_id]['camera_loc'])\n",
    "    lat_match = re.search(r\"lat:(\\d+\\.\\d+)\", tklet[fig_id]['camera_loc'])\n",
    "    cam_id = tklet[fig_id]['camera_id'][11:]\n",
    "    vid = int(tklet[fig_id]['vehicle_id'].split('_')[1])\n",
    "    # print(traj_veh[vid], paths)\n",
    "    # if vid not in traj_veh.keys():\n",
    "    #     continue\n",
    "    # paths = traj_veh[vid]\n",
    "    # if cam_id in camid2nodeid.keys():\n",
    "    #     cam_node1 = camid2nodeid[cam_id]\n",
    "    # else:\n",
    "    #     ans = float(lon_match.group(1)), float(lat_match.group(1))\n",
    "    #     cam_node1 = ox.nearest_nodes(G2.subgraph(paths), *ans)\n",
    "    #     camid2nodeid[cam_id] = cam_node1\n",
    "    ans = float(lon_match.group(1)), float(lat_match.group(1))\n",
    "    cam_node = ox.nearest_nodes(G2, *ans)\n",
    "    # # cam_node1 = ox.nearest_nodes(G.subgraph(traj_veh[vid]), *ans)\n",
    "    # if cam_node != cam_node1:\n",
    "    #     # print(cam_node, cam_node1)\n",
    "    #     # print(cam_node)\n",
    "    #     cnt += 1\n",
    "    # else:\n",
    "    #     cnt_true += 1\n",
    "    tklet_node = [cam_node]\n",
    "    fig_tklet2node[str(fig_id) + \"_\" + str(cam_node)] = tklet_node\n",
    "    tklet_list = []\n",
    "    for point_str in tklet[fig_id]['tracklet'].split(\",\"):\n",
    "        lon_match = re.search(r\"lon:(\\d+\\.\\d+)\", point_str)\n",
    "        lat_match = re.search(r\"lat:(\\d+\\.\\d+)\", point_str)\n",
    "        if lon_match and lat_match:\n",
    "            lon, lat = float(lon_match.group(1)), float(lat_match.group(1))\n",
    "            tklet_list.append([lon, lat])\n",
    "    # print(tklet_list)\n",
    "    if len(tklet_list) < 2:\n",
    "        # print(fig_id)\n",
    "        continue\n",
    "    unique_lst = list(OrderedDict.fromkeys(tuple(x) for x in tklet_list))\n",
    "    bearing_from = ox.bearing.calculate_bearing(unique_lst[1][1],\n",
    "                                                unique_lst[1][0],\n",
    "                                                unique_lst[0][1],\n",
    "                                                unique_lst[0][0])\n",
    "    bearing_to = ox.bearing.calculate_bearing(unique_lst[-2][1],\n",
    "                                              unique_lst[-2][0],\n",
    "                                              unique_lst[-1][1],\n",
    "                                              unique_lst[-1][0])\n",
    "    for nbs in list(G2.predecessors(cam_node)):\n",
    "        node_bearing = ox.bearing.calculate_bearing(\n",
    "            *G2.nodes()[cam_node]['xy'][::-1],\n",
    "            *G2.nodes()[nbs]['xy'][::-1])\n",
    "        if abs(node_bearing - bearing_from) > 180:\n",
    "            if node_bearing < bearing_from:\n",
    "                node_bearing += 360\n",
    "            else:\n",
    "                bearing_from += 360\n",
    "        if abs(node_bearing - bearing_from) < 20 and tklet_node[0] == cam_node:\n",
    "            tklet_node.insert(0, nbs)\n",
    "    for nbs in list(G2.successors(cam_node)):\n",
    "        node_bearing = ox.bearing.calculate_bearing(\n",
    "            *G2.nodes()[cam_node]['xy'][::-1],\n",
    "            *G2.nodes()[nbs]['xy'][::-1])\n",
    "        if abs(node_bearing - bearing_to) > 180:\n",
    "            if node_bearing < bearing_to:\n",
    "                node_bearing += 360\n",
    "            else:\n",
    "                bearing_to += 360\n",
    "        if abs(node_bearing - bearing_to) < 20 and tklet_node[-1] == cam_node:\n",
    "            tklet_node.append(nbs)\n",
    "    if len(tklet_node) > 3:\n",
    "        tklet_node.pop(1)\n",
    "print(cnt, cnt_true)"
   ]
  },
  {
   "cell_type": "code",
   "execution_count": 22,
   "metadata": {},
   "outputs": [],
   "source": [
    "fig_names = defaultdict(list)\n",
    "for fig_id in fig_tklet2node.keys():\n",
    "    img_id = fig_id.split('_')[0]\n",
    "    fig_names[tklet[img_id]['image_name'][:-4]] = fig_tklet2node[fig_id]\n",
    "# with open(data_file + '/tklet_in_figs.pkl', 'wb') as f:\n",
    "#     pickle.dump(fig_names, f)"
   ]
  },
  {
   "cell_type": "code",
   "execution_count": 23,
   "metadata": {},
   "outputs": [],
   "source": [
    "import pandas as pd\n",
    "\n",
    "df_recd = pd.read_pickle(\n",
    "    open('../dataset/records_4w.pkl', 'rb'))\n",
    "df_recd = pd.DataFrame.from_dict(df_recd, orient='columns')\n",
    "# df_recd['time'] = df_recd['time']"
   ]
  },
  {
   "cell_type": "code",
   "execution_count": 24,
   "metadata": {},
   "outputs": [
    {
     "data": {
      "text/html": [
       "<div>\n",
       "<style scoped>\n",
       "    .dataframe tbody tr th:only-of-type {\n",
       "        vertical-align: middle;\n",
       "    }\n",
       "\n",
       "    .dataframe tbody tr th {\n",
       "        vertical-align: top;\n",
       "    }\n",
       "\n",
       "    .dataframe thead th {\n",
       "        text-align: right;\n",
       "    }\n",
       "</style>\n",
       "<table border=\"1\" class=\"dataframe\">\n",
       "  <thead>\n",
       "    <tr style=\"text-align: right;\">\n",
       "      <th></th>\n",
       "      <th>vehicle_id</th>\n",
       "      <th>time</th>\n",
       "      <th>image_name</th>\n",
       "      <th>camera_id</th>\n",
       "      <th>car_feature</th>\n",
       "      <th>tklet</th>\n",
       "      <th>plate_feature</th>\n",
       "      <th>plate_text</th>\n",
       "    </tr>\n",
       "  </thead>\n",
       "  <tbody>\n",
       "    <tr>\n",
       "      <th>0</th>\n",
       "      <td>11026</td>\n",
       "      <td>468.644714</td>\n",
       "      <td>image_585_0716_01.jpg</td>\n",
       "      <td>101</td>\n",
       "      <td>[-0.05570761, 0.011447539, -0.0491364, -0.0229...</td>\n",
       "      <td>[[114.019806, 22.634327], [114.01981, 22.63433...</td>\n",
       "      <td>None</td>\n",
       "      <td>None</td>\n",
       "    </tr>\n",
       "    <tr>\n",
       "      <th>1</th>\n",
       "      <td>11026</td>\n",
       "      <td>467.684509</td>\n",
       "      <td>image_580_0716_01.jpg</td>\n",
       "      <td>541</td>\n",
       "      <td>[-0.034275193, 0.0321603, -0.08746838, -0.0010...</td>\n",
       "      <td>[[114.017185, 22.631675], [114.017196, 22.6316...</td>\n",
       "      <td>None</td>\n",
       "      <td>None</td>\n",
       "    </tr>\n",
       "    <tr>\n",
       "      <th>2</th>\n",
       "      <td>11026</td>\n",
       "      <td>463.80368</td>\n",
       "      <td>image_566_0716_01.jpg</td>\n",
       "      <td>530</td>\n",
       "      <td>[-0.037081357, -0.025386535, -0.0337778, -0.01...</td>\n",
       "      <td>[[114.008546, 22.62041], [114.008547, 22.62042...</td>\n",
       "      <td>None</td>\n",
       "      <td>None</td>\n",
       "    </tr>\n",
       "  </tbody>\n",
       "</table>\n",
       "</div>"
      ],
      "text/plain": [
       "   vehicle_id        time             image_name  camera_id  \\\n",
       "0       11026  468.644714  image_585_0716_01.jpg        101   \n",
       "1       11026  467.684509  image_580_0716_01.jpg        541   \n",
       "2       11026   463.80368  image_566_0716_01.jpg        530   \n",
       "\n",
       "                                         car_feature  \\\n",
       "0  [-0.05570761, 0.011447539, -0.0491364, -0.0229...   \n",
       "1  [-0.034275193, 0.0321603, -0.08746838, -0.0010...   \n",
       "2  [-0.037081357, -0.025386535, -0.0337778, -0.01...   \n",
       "\n",
       "                                               tklet plate_feature plate_text  \n",
       "0  [[114.019806, 22.634327], [114.01981, 22.63433...          None       None  \n",
       "1  [[114.017185, 22.631675], [114.017196, 22.6316...          None       None  \n",
       "2  [[114.008546, 22.62041], [114.008547, 22.62042...          None       None  "
      ]
     },
     "execution_count": 24,
     "metadata": {},
     "output_type": "execute_result"
    }
   ],
   "source": [
    "df_recd.head(3)"
   ]
  },
  {
   "cell_type": "code",
   "execution_count": 25,
   "metadata": {},
   "outputs": [
    {
     "data": {
      "text/plain": [
       "array(['image_585_0716_01.jpg', 'image_580_0716_01.jpg',\n",
       "       'image_566_0716_01.jpg', ..., 'image_4954_0707_004.jpg',\n",
       "       'image_4898_0707_004.jpg', 'image_4956_0707_004.jpg'], dtype=object)"
      ]
     },
     "execution_count": 25,
     "metadata": {},
     "output_type": "execute_result"
    }
   ],
   "source": [
    "df_recd['image_name'].values"
   ]
  },
  {
   "cell_type": "code",
   "execution_count": 26,
   "metadata": {},
   "outputs": [],
   "source": [
    "with open(data_file + '/camid2nodeid.pkl', 'rb') as f:\n",
    "    camid2nodeid = pickle.load(f)"
   ]
  },
  {
   "cell_type": "code",
   "execution_count": 27,
   "metadata": {},
   "outputs": [],
   "source": [
    "df_recd['tklet_nodes'] = df_recd['image_name'].apply(\n",
    "    lambda x: fig_names[x[:-4]])\n",
    "df_recd.drop(columns=['tklet'], inplace=True)\n",
    "df_recd['camera_id'] = df_recd['camera_id'].apply(lambda x: camid2nodeid[x])"
   ]
  },
  {
   "cell_type": "code",
   "execution_count": 29,
   "metadata": {},
   "outputs": [],
   "source": [
    "pickle.dump(df_recd.to_dict('records'), open('records_4w_tklet.pkl', 'wb'))"
   ]
  },
  {
   "cell_type": "code",
   "execution_count": 30,
   "metadata": {},
   "outputs": [],
   "source": [
    "def find_longest_common_continuous_substring(str1, str2):\n",
    "    m = len(str1)\n",
    "    n = len(str2)\n",
    "\n",
    "    # 创建一个二维数组来保存子问题的结果\n",
    "    dp = [[0] * (n + 1) for _ in range(m + 1)]\n",
    "\n",
    "    max_length = 0  # 最长公共连续子串的长度\n",
    "    end = 0  # 最长公共连续子串的结束位置\n",
    "\n",
    "    for i in range(1, m + 1):\n",
    "        for j in range(1, n + 1):\n",
    "            if str1[i - 1] == str2[j - 1]:\n",
    "                dp[i][j] = dp[i - 1][j - 1] + 1\n",
    "                if dp[i][j] > max_length:\n",
    "                    max_length = dp[i][j]\n",
    "                    end = i  # 记录最长公共连续子串的结束位置\n",
    "\n",
    "    longest_common_continuous_substring = str1[end - max_length:end]\n",
    "\n",
    "    return longest_common_continuous_substring"
   ]
  },
  {
   "cell_type": "code",
   "execution_count": 31,
   "metadata": {},
   "outputs": [
    {
     "name": "stdout",
     "output_type": "stream",
     "text": [
      "0.8783145572289169\n",
      "0.9362235122811841\n"
     ]
    }
   ],
   "source": [
    "veh_tklet = defaultdict(list)\n",
    "tklet_pre = []\n",
    "tklet_iou = []\n",
    "cnt = 0\n",
    "cnt_grth = 0\n",
    "for fig_id in fig_tklet2node.keys():\n",
    "    img_id = fig_id.split('_')[0]\n",
    "    vid = int(tklet[img_id]['vehicle_id'].split('_')[1])\n",
    "    ans = camid2nodeid[int(tklet[img_id]['camera_id'][11:])]\n",
    "    if not vid in traj_veh.keys():\n",
    "        # print(vid)\n",
    "        continue\n",
    "    if ans in traj_veh[int(vid)]:\n",
    "        intn = find_longest_common_continuous_substring(\n",
    "            traj_veh[int(vid)], fig_tklet2node[fig_id])\n",
    "        node_ix = traj_veh[int(vid)].index(ans)\n",
    "\n",
    "        grth_tklet = traj_veh[int(vid)][max(0, node_ix - 1):node_ix + 2]\n",
    "        tklet_iou.append((len(intn)) / (len(grth_tklet)))\n",
    "        tklet_pre.append((len(set(fig_tklet2node[fig_id]) & set(intn))) /\n",
    "                         (len(set(fig_tklet2node[fig_id]))))\n",
    "        cnt_grth += 1\n",
    "    else:\n",
    "        cnt += 1\n",
    "        # tklet_pre.append(0)\n",
    "    # veh_tklet[tklet[img_id]['vehicle_id'].split('_')[1]] = fig_tklet2node[fig_id]\n",
    "print(sum(tklet_iou) / len(tklet_iou))\n",
    "print(sum(tklet_pre) / len(tklet_pre))"
   ]
  }
 ],
 "metadata": {
  "kernelspec": {
   "display_name": "Python 3 (ipykernel)",
   "language": "python",
   "name": "python3"
  },
  "language_info": {
   "codemirror_mode": {
    "name": "ipython",
    "version": 3
   },
   "file_extension": ".py",
   "mimetype": "text/x-python",
   "name": "python",
   "nbconvert_exporter": "python",
   "pygments_lexer": "ipython3",
   "version": "3.9.13"
  },
  "orig_nbformat": 4,
  "vscode": {
   "interpreter": {
    "hash": "16f58ff8490516d88e09524762eeeab83bc0547a69e94dee008ff202706f3452"
   }
  }
 },
 "nbformat": 4,
 "nbformat_minor": 2
}
