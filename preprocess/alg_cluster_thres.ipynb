{
 "cells": [
  {
   "cell_type": "code",
   "execution_count": 22,
   "metadata": {},
   "outputs": [],
   "source": [
    "import torch\n",
    "import math\n",
    "import pickle\n",
    "import numpy as np\n",
    "import torch.nn as nn\n",
    "import torch.optim as optim\n",
    "from collections import Counter, defaultdict\n",
    "import matplotlib.pyplot as plt\n",
    "import pandas as pd"
   ]
  },
  {
   "cell_type": "code",
   "execution_count": 23,
   "metadata": {},
   "outputs": [],
   "source": [
    "data_file = '../dataset/'"
   ]
  },
  {
   "cell_type": "code",
   "execution_count": 24,
   "metadata": {},
   "outputs": [],
   "source": [
    "traj_nodes = pickle.load(open(data_file + \"traj_nodes_4k.pkl\", \"rb\"))\n",
    "traj_veh = defaultdict(list)\n",
    "for k in traj_nodes:\n",
    "    traj_veh[k['vehicle_id']] = np.array(\n",
    "        k['xyt'])[:, :1].astype(int).reshape(-1).tolist()\n",
    "\n",
    "\n",
    "def get_labels(records, labels, thres=0.9):\n",
    "    if not isinstance(labels, list):\n",
    "        labels = labels.tolist()\n",
    "    pair = [\n",
    "        (int(i[\"vehicle_id\"]) if i[\"vehicle_id\"] in traj_veh.keys() else -1, j)\n",
    "        for i, j in zip(records, labels)\n",
    "    ]\n",
    "    pair.sort(key=lambda x: x[0])\n",
    "    vid2cid = defaultdict(list)\n",
    "    gt_size = defaultdict(int)\n",
    "    cid_size = defaultdict(int)\n",
    "    cid2vid = defaultdict(list)\n",
    "    for i, j in pair:\n",
    "        cid2vid[j].append(i)\n",
    "        cid_size[j] += 1\n",
    "        if i != -1:\n",
    "            gt_size[i] += 1\n",
    "\n",
    "    cidtovid = defaultdict(list)\n",
    "    for i in cid2vid.keys():\n",
    "        if sum(cid2vid[i]) != -len(cid2vid[i]):\n",
    "            cidtovid[i] = cid2vid[i]\n",
    "\n",
    "    return cidtovid\n",
    "\n",
    "\n",
    "def get_vid(vid_list):  # 获得车辆ID众数\n",
    "    cs = [i for i in vid_list]\n",
    "    vid, cnt = max(Counter(cs).items(), key=lambda x: x[1])\n",
    "    return vid"
   ]
  },
  {
   "cell_type": "code",
   "execution_count": 25,
   "metadata": {},
   "outputs": [],
   "source": [
    "clu_path = \"../dataset/\"\n",
    "records = pickle.load(open(data_file + \"records_4w.pkl\", \"rb\"))\n",
    "labels07 = np.loadtxt(clu_path + \"preds_4w_0.8.txt\").astype(int).tolist()\n",
    "labels09 = np.loadtxt(clu_path + \"preds_4w_0.9.txt\").astype(int).tolist()"
   ]
  },
  {
   "cell_type": "code",
   "execution_count": 26,
   "metadata": {},
   "outputs": [],
   "source": [
    "inp_enc_data = defaultdict(list)\n",
    "inp_dec_data = []\n",
    "gt_data = []\n",
    "df_records = pd.DataFrame(records)\n",
    "clu_09 = get_labels(records, labels09)\n",
    "for item, vid_list in clu_09.items():\n",
    "    ans = df_records.iloc[np.array(labels09) == item, :]\n",
    "    rec_ids = ans.record_id.values.tolist()\n",
    "    vid = get_vid(vid_list)\n",
    "    if vid == -1:\n",
    "        continue\n",
    "    inp_enc_data[vid].append(rec_ids)\n",
    "# inp_enc_data"
   ]
  },
  {
   "cell_type": "code",
   "execution_count": 27,
   "metadata": {},
   "outputs": [
    {
     "data": {
      "text/plain": [
       "1166"
      ]
     },
     "execution_count": 27,
     "metadata": {},
     "output_type": "execute_result"
    }
   ],
   "source": [
    "clu_07 = get_labels(records, labels07)\n",
    "\n",
    "xy_data = defaultdict(list)\n",
    "\n",
    "for item, vid_list in clu_07.items():\n",
    "    ans = df_records.iloc[np.array(labels07) == item, :]\n",
    "    rec_ids = ans.record_id.values.tolist()\n",
    "    # inp_dec_data.append(rec_ids)\n",
    "    vid = get_vid(vid_list)\n",
    "    if vid == -1 or not vid in inp_enc_data.keys():\n",
    "        continue\n",
    "    gt_res = ans.vehicle_id.values == vid\n",
    "\n",
    "    for val in inp_enc_data[vid]:\n",
    "        if len(set(val)) > 1 and set(val).issubset(set(rec_ids)):\n",
    "            enc_y = df_records[df_records.record_id.isin(\n",
    "                val)].vehicle_id.values == vid\n",
    "            xy_data['x_high'].append(val)  #\n",
    "            xy_data['x'].append(rec_ids)\n",
    "            xy_data['y'].append(vid)\n",
    "            xy_data['gt_deno'].append(gt_res)\n",
    "            xy_data['gt_nums'].append(\n",
    "                (df_records.vehicle_id.values == vid).sum())\n",
    "            break\n",
    "len(clu_07.items())\n",
    "len(xy_data['x'])"
   ]
  },
  {
   "cell_type": "code",
   "execution_count": 28,
   "metadata": {},
   "outputs": [
    {
     "data": {
      "image/png": "[encoded data removed]",
      "text/plain": [
       "<Figure size 640x480 with 1 Axes>"
      ]
     },
     "metadata": {},
     "output_type": "display_data"
    }
   ],
   "source": [
    "from collections import Counter\n",
    "\n",
    "c = Counter(labels07)\n",
    "c = dict(sorted(c.items(), key=lambda x: x[1], reverse=True))\n",
    "plt.plot(np.arange(len(c)), c.values())\n",
    "plt.show()\n"
   ]
  },
  {
   "cell_type": "code",
   "execution_count": 29,
   "metadata": {},
   "outputs": [],
   "source": [
    "from torchnlp.encoders.text import StaticTokenizerEncoder\n",
    "\n",
    "data = xy_data  # pickle.load(open(data_file + \"data.pkl\", \"rb\"))\n",
    "G = pickle.load(open(data_file + \"longhua_1.8k.pkl\", \"rb\"))"
   ]
  },
  {
   "cell_type": "code",
   "execution_count": 30,
   "metadata": {},
   "outputs": [],
   "source": [
    "cam_x_list_high = [[\n",
    "    df_records[df_records['record_id'] == j].camera_id.values[0] for j in i\n",
    "] for i in data['x_high']]\n",
    "cam_x_tms_list_high = [[\n",
    "    df_records[df_records['record_id'] == j].time.values[0] for j in i\n",
    "] for i in data['x_high']]\n",
    "cam_x_recd_list_high = data['x_high']\n",
    "\n",
    "cam_x_list = [[\n",
    "    df_records[df_records['record_id'] == j].camera_id.values[0] for j in i\n",
    "] for i in data['x']]\n",
    "cam_x_tms_list = [[\n",
    "    df_records[df_records['record_id'] == j].time.values[0] for j in i\n",
    "] for i in data['x']]\n",
    "cam_x_recd_list = data['x']\n",
    "\n",
    "for i, item in enumerate(cam_x_tms_list):\n",
    "    idxs = np.argsort(np.array(item))\n",
    "    cam_x_list[i] = np.array(cam_x_list[i])[idxs].tolist()\n",
    "    cam_x_tms_list[i] = np.array(cam_x_tms_list[i])[idxs].tolist()\n",
    "    cam_x_recd_list[i] = np.array(cam_x_recd_list[i])[idxs].tolist()\n",
    "\n",
    "for i, item in enumerate(cam_x_tms_list_high):\n",
    "    idxs = np.argsort(np.array(item))\n",
    "    cam_x_list_high[i] = np.array(cam_x_list_high[i])[idxs].tolist()\n",
    "    cam_x_tms_list_high[i] = np.array(cam_x_tms_list_high[i])[idxs].tolist()\n",
    "    cam_x_recd_list_high[i] = np.array(cam_x_recd_list_high[i])[idxs].tolist()\n",
    "\n",
    "cam_x_tms = defaultdict(list)\n",
    "cam_x_recd = defaultdict(list)\n",
    "cam_x = defaultdict(list)\n",
    "cam_x_recd_high = defaultdict(list)\n",
    "cam_x_high = defaultdict(list)\n",
    "for i, vid in enumerate(data['y']):\n",
    "    cam_x[vid] = cam_x_list[i]\n",
    "    cam_x_tms[vid] = cam_x_tms_list[i]\n",
    "    cam_x_recd[vid] = cam_x_recd_list[i]\n",
    "    cam_x_high[vid] = cam_x_list_high[i]\n",
    "    cam_x_recd_high[vid] = cam_x_recd_list_high[i]"
   ]
  },
  {
   "cell_type": "code",
   "execution_count": 31,
   "metadata": {},
   "outputs": [
    {
     "data": {
      "text/plain": [
       "[890, 891, 891, 892]"
      ]
     },
     "execution_count": 31,
     "metadata": {},
     "output_type": "execute_result"
    }
   ],
   "source": [
    "cam_x_tms[vid]"
   ]
  },
  {
   "cell_type": "code",
   "execution_count": 32,
   "metadata": {},
   "outputs": [],
   "source": [
    "for node in G.nodes:\n",
    "    x, y = G.nodes[node]['x'], G.nodes[node]['y']\n",
    "    G.nodes[node]['xy'] = [x, y]\n",
    "map_oid2nid = defaultdict()\n",
    "for n in G.nodes():\n",
    "    if isinstance(G.nodes()[n]['osmid_original'], int):\n",
    "        map_oid2nid[G.nodes()[n]['osmid_original']] = n\n",
    "        continue\n",
    "    osmid = eval(G.nodes()[n]['osmid_original'])\n",
    "    for oid in osmid:\n",
    "        map_oid2nid[oid] = n"
   ]
  },
  {
   "cell_type": "code",
   "execution_count": 33,
   "metadata": {},
   "outputs": [
    {
     "data": {
      "text/plain": [
       "18108"
      ]
     },
     "execution_count": 33,
     "metadata": {},
     "output_type": "execute_result"
    }
   ],
   "source": [
    "len(df_records.camera_id.values)"
   ]
  },
  {
   "cell_type": "code",
   "execution_count": 34,
   "metadata": {},
   "outputs": [],
   "source": [
    "df_traj = pd.DataFrame(traj_nodes)\n",
    "res_seq = defaultdict(list)\n",
    "for idx, i in enumerate(data['y']):\n",
    "    if not sum(df_traj.vehicle_id == i):\n",
    "        continue\n",
    "    if i in res_seq.keys():\n",
    "        continue\n",
    "    for n in df_traj[df_traj.vehicle_id == i].xyt.values[0]:\n",
    "        if n[0] in map_oid2nid.keys():\n",
    "            res_seq[i].append(map_oid2nid[n[0]])\n",
    "    res_seq[i] = [\n",
    "        x for j, x in enumerate(res_seq[i]) if j == 0 or x != res_seq[i][j - 1]\n",
    "    ]\n"
   ]
  },
  {
   "cell_type": "code",
   "execution_count": 35,
   "metadata": {},
   "outputs": [],
   "source": [
    "import osmnx as ox"
   ]
  },
  {
   "cell_type": "code",
   "execution_count": 36,
   "metadata": {},
   "outputs": [
    {
     "name": "stdout",
     "output_type": "stream",
     "text": [
      "687 687 370 687\n"
     ]
    }
   ],
   "source": [
    "data_all = []\n",
    "data_xx = []\n",
    "outlier = []\n",
    "used_vids = []\n",
    "for i in res_seq.keys():\n",
    "    if cam_x[i] == []:\n",
    "        continue\n",
    "    itsn = set(cam_x[i]) & set(res_seq[i])\n",
    "    if len(itsn) > 0 and len(set(cam_x[i])) > 2:\n",
    "        if set(cam_x[i]) - itsn:\n",
    "            outlier.append(i)\n",
    "        data_all.append(res_seq[i])\n",
    "        data_xx.append(cam_x[i])\n",
    "        if i in traj_veh.keys():\n",
    "            used_vids.append(i)\n",
    "print(len(data_all), len(data_xx), len(outlier), len(used_vids))"
   ]
  },
  {
   "cell_type": "code",
   "execution_count": 37,
   "metadata": {},
   "outputs": [],
   "source": [
    "res_seq_clip_od = defaultdict(list)\n",
    "cam_x_clip_od = defaultdict(list)\n",
    "cam_x_tms_clip_od = defaultdict(list)\n",
    "cam_x_recd_clip_od = defaultdict(list)\n",
    "cam_x_high_clip_od = defaultdict(list)\n",
    "cam_x_recd_high_clip_od = defaultdict(list)\n",
    "for vid in used_vids:\n",
    "    if cam_x[vid] is None:\n",
    "        print(cam_x[vid])\n",
    "    st = 0\n",
    "    ed = len(res_seq[vid])\n",
    "    for i, vlu in enumerate(cam_x[vid]):\n",
    "        if vlu in res_seq[vid]:\n",
    "            st = res_seq[vid].index(vlu)\n",
    "            break\n",
    "    for i, vlu in enumerate(cam_x[vid][::-1]):\n",
    "        if vlu in res_seq[vid]:\n",
    "            ed = len(res_seq[vid]) - res_seq[vid][::-1].index(vlu)\n",
    "            break\n",
    "    if ed - st > 2:\n",
    "        res_seq_clip_od[vid] = res_seq[vid][st:ed]\n",
    "        cam_x_clip_od[vid] = cam_x[vid][:]\n",
    "        cam_x_tms_clip_od[vid] = cam_x_tms[vid][:]\n",
    "        cam_x_recd_clip_od[vid] = cam_x_recd[vid][:]\n",
    "        cam_x_high_clip_od[vid] = cam_x_high[vid][:]\n",
    "        cam_x_recd_high_clip_od[vid] = cam_x_recd_high[vid][:]\n",
    "# used_vids"
   ]
  },
  {
   "cell_type": "code",
   "execution_count": 38,
   "metadata": {},
   "outputs": [],
   "source": [
    "for key in cam_x_clip_od.keys():\n",
    "    lst = cam_x_clip_od[key]\n",
    "    cam_x_clip_od[key] = [\n",
    "        x for i, x in enumerate(lst) if i == 0 or x != lst[i - 1]\n",
    "    ]\n",
    "    ans = cam_x_tms_clip_od[key]\n",
    "    cam_x_tms_clip_od[key] = [\n",
    "        ans[i] for i, x in enumerate(lst) if i == 0 or x != lst[i - 1]\n",
    "    ]\n",
    "    ans = cam_x_recd_clip_od[key]\n",
    "    cam_x_recd_clip_od[key] = [\n",
    "        ans[i] for i, x in enumerate(lst) if i == 0 or x != lst[i - 1]\n",
    "    ]\n"
   ]
  },
  {
   "cell_type": "code",
   "execution_count": 39,
   "metadata": {},
   "outputs": [
    {
     "data": {
      "text/plain": [
       "609"
      ]
     },
     "execution_count": 39,
     "metadata": {},
     "output_type": "execute_result"
    }
   ],
   "source": [
    "tklet = defaultdict(list)\n",
    "tklet_wopad = defaultdict(list)\n",
    "for key in cam_x_clip_od.keys():\n",
    "    tklet_i = []\n",
    "    tklet_i_wopad = []\n",
    "    for vlu in cam_x_recd_clip_od[key]:\n",
    "        ans = df_records[df_records.record_id == vlu].tklet_nodes.values[0]\n",
    "        ans_wopad = ans[:]\n",
    "        node = df_records[df_records.record_id == vlu].camera_id.values[0]\n",
    "\n",
    "        if len(ans) == 0 or len(ans) == 1:\n",
    "            ans = [\n",
    "                list(G.predecessors(node))[0], node,\n",
    "                list(G.successors(node))[0]\n",
    "            ]\n",
    "            ans_wopad = [node]\n",
    "        if len(ans) == 2:\n",
    "            ix = ans.index(node)\n",
    "            if ix == 0:\n",
    "                ans.insert(0, list(G.predecessors(node))[0])\n",
    "            elif ix == 1:\n",
    "                ans.insert(-1, list(G.successors(node))[0])\n",
    "        tklet_i.extend(ans)\n",
    "        tklet_i_wopad.extend(ans_wopad)\n",
    "    # print(len(tklet_i))\n",
    "    tklet[key] = tklet_i[1:-1]\n",
    "    tklet_wopad[key] = tklet_i_wopad[:]\n",
    "len(tklet.keys())"
   ]
  },
  {
   "cell_type": "code",
   "execution_count": 40,
   "metadata": {},
   "outputs": [],
   "source": [
    "pickle.dump(\n",
    "    {\n",
    "        'cam_x': cam_x_clip_od,\n",
    "        'tklet': tklet,\n",
    "        'tklet_wopad': tklet_wopad,\n",
    "        'recd_token': cam_x_recd_clip_od,\n",
    "        'cam_x_high': cam_x_high_clip_od,\n",
    "        'recd_token_high': cam_x_recd_high_clip_od,\n",
    "        'cam_tms': cam_x_tms_clip_od,\n",
    "        'traj_y': res_seq_clip_od,\n",
    "    }, open(data_file + 'data_sim_4k.pkl', \"wb\"))"
   ]
  },
  {
   "cell_type": "code",
   "execution_count": 41,
   "metadata": {},
   "outputs": [
    {
     "data": {
      "text/plain": [
       "3"
      ]
     },
     "execution_count": 41,
     "metadata": {},
     "output_type": "execute_result"
    }
   ],
   "source": [
    "min([len(i) for i in res_seq_clip_od.values()])\n",
    "# len(res_seq_clip_od)"
   ]
  },
  {
   "cell_type": "code",
   "execution_count": 42,
   "metadata": {},
   "outputs": [],
   "source": [
    "# import tqdm\n",
    "# for vid in tqdm.tqdm(res_seq_clip_od.keys()):\n",
    "#     ans1 = cam_x_clip_od[vid]\n",
    "#     gt_traj = res_seq_clip_od[vid]\n",
    "#     nc = ['b' if node in ans1 else 'gray' for node in G.nodes()]\n",
    "#     ns = [20 if node in ans1 else 1 for node in G.nodes()]\n",
    "#     fig, ax = ox.plot_graph(G,\n",
    "#                             node_color=nc,\n",
    "#                             node_size=ns,\n",
    "#                             show=False,\n",
    "#                             bgcolor='w',\n",
    "#                             edge_color='#dcdcdc')\n",
    "#     ox.plot_graph_route(\n",
    "#         G,\n",
    "#         gt_traj,\n",
    "#         ax=ax,\n",
    "#         show=False,\n",
    "#         save=True,\n",
    "#         filepath=f\"/root/lizhishuai/sim_3ddata/result_img/demo{vid}.png\",\n",
    "#         bgcolor='w',\n",
    "#         edge_color='#dcdcdc')\n"
   ]
  },
  {
   "cell_type": "code",
   "execution_count": null,
   "metadata": {},
   "outputs": [],
   "source": []
  }
 ],
 "metadata": {
  "kernelspec": {
   "display_name": "Python 3.9.13 ('torch191')",
   "language": "python",
   "name": "python3"
  },
  "language_info": {
   "codemirror_mode": {
    "name": "ipython",
    "version": 3
   },
   "file_extension": ".py",
   "mimetype": "text/x-python",
   "name": "python",
   "nbconvert_exporter": "python",
   "pygments_lexer": "ipython3",
   "version": "3.9.13"
  },
  "orig_nbformat": 4,
  "vscode": {
   "interpreter": {
    "hash": "16f58ff8490516d88e09524762eeeab83bc0547a69e94dee008ff202706f3452"
   }
  }
 },
 "nbformat": 4,
 "nbformat_minor": 2
}
