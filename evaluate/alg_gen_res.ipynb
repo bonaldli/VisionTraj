{
 "cells": [
  {
   "cell_type": "code",
   "execution_count": 1,
   "metadata": {},
   "outputs": [],
   "source": [
    "import pickle\n",
    "import json\n",
    "import numpy as np\n",
    "import networkx as nx\n",
    "import tqdm, os\n",
    "from collections import Counter, defaultdict\n",
    "from torchnlp.encoders.text import StaticTokenizerEncoder\n",
    "import osmnx as ox\n",
    "from tqdm import tqdm\n",
    "\n",
    "os.environ[\"CUDA_VISIBLE_DEVICES\"] = '6'"
   ]
  },
  {
   "cell_type": "code",
   "execution_count": 2,
   "metadata": {},
   "outputs": [],
   "source": [
    "import yaml\n",
    "'''修改这里的路径加载配置好的cfg文件'''\n",
    "config_filename = f'../models/cfg.yaml'\n",
    "configs = yaml.load(open(config_filename), Loader=yaml.FullLoader)"
   ]
  },
  {
   "attachments": {},
   "cell_type": "markdown",
   "metadata": {},
   "source": [
    "##### 获得节点id-token对应关系"
   ]
  },
  {
   "cell_type": "code",
   "execution_count": 3,
   "metadata": {},
   "outputs": [],
   "source": [
    "G = pickle.load(open(configs['data_path'] + \"longhua_1.8k.pkl\", \"rb\"))\n",
    "nodeid2token = StaticTokenizerEncoder(sample=[sorted(list(G.nodes()))],\n",
    "                                      tokenize=lambda s: list(map(str, s)))\n",
    "G = nx.MultiDiGraph(G)"
   ]
  },
  {
   "cell_type": "code",
   "execution_count": 4,
   "metadata": {},
   "outputs": [
    {
     "data": {
      "text/plain": [
       "1839"
      ]
     },
     "execution_count": 4,
     "metadata": {},
     "output_type": "execute_result"
    }
   ],
   "source": [
    "len(G.nodes())"
   ]
  },
  {
   "attachments": {},
   "cell_type": "markdown",
   "metadata": {},
   "source": [
    "##### 生成结果展示"
   ]
  },
  {
   "cell_type": "code",
   "execution_count": 5,
   "metadata": {},
   "outputs": [],
   "source": [
    "def res_data(file='1m_50_tfm_bs'):\n",
    "    data = configs['save_path'] + f'{file}.pkl'\n",
    "    with open(data, 'rb') as f:\n",
    "        data = pickle.load(f)\n",
    "    if file.endswith(\"gnn\"):\n",
    "        data_cams = data['cam_id'][:, 0].tolist()\n",
    "    else:\n",
    "        if not isinstance(data['cam_id'], dict):\n",
    "            data_cams = data['cam_id'].tolist()\n",
    "        else:\n",
    "            data_cams = list(data['cam_id'].values())\n",
    "    if not isinstance(data['pred'], list):\n",
    "        data_pred = data['pred'].tolist()\n",
    "        data_grth = data['grth'].tolist()\n",
    "    else:\n",
    "        data_pred = data['pred']\n",
    "        data_grth = data['grth']\n",
    "    return data_pred, data_cams, data_grth"
   ]
  },
  {
   "cell_type": "code",
   "execution_count": 6,
   "metadata": {},
   "outputs": [],
   "source": [
    "def res_data2(file='../hmm_rec_3D/hmm_rec.pkl'):\n",
    "    data_file = '../dataset/'\n",
    "    data = pickle.load(open(data_file + \"data_sim_4k.pkl\", \"rb\"))\n",
    "    data_pred = pickle.load(open(file, 'rb'))\n",
    "    for k in data_pred.keys():\n",
    "        data_pred[k] = [data_pred[k][0][i][0] for i in range(len(data_pred[k][0]))]\n",
    "    data_pred = list(data_pred.values())\n",
    "    data_cams = list(data[\"cam_x\"].values())[-50:][:len(data_pred)]\n",
    "    data_grth = list(data['traj_y'].values())[-50:][:len(data_pred)]\n",
    "    return data_pred, data_cams, data_grth"
   ]
  },
  {
   "cell_type": "code",
   "execution_count": 7,
   "metadata": {},
   "outputs": [
    {
     "name": "stderr",
     "output_type": "stream",
     "text": [
      " 56%|█████▌    | 28/50 [00:00<00:00, 89.51it/s]"
     ]
    },
    {
     "name": "stderr",
     "output_type": "stream",
     "text": [
      "100%|██████████| 50/50 [00:00<00:00, 87.23it/s]\n"
     ]
    }
   ],
   "source": [
    "data_res = [\n",
    "    'bs_shortest_path_3d',\n",
    "    '../hmm_rec_3D/hmm_rec.pkl',\n",
    "    \"bs_shorest_path_deno\",\n",
    "    'bs_shorest_path_tklet_deno',\n",
    "    'real_test_tfm_tklet_deno_3d',\n",
    "]\n",
    "\n",
    "nums = min([len(res_data(file)[0]) for file in data_res[:1]])\n",
    "percision = [[] for _ in data_res]\n",
    "recall = [[] for _ in data_res]\n",
    "iou = [[] for _ in data_res]\n",
    "per_wono = [[] for _ in data_res]\n",
    "rec_wono = [[] for _ in data_res]\n",
    "iou_wono = [[] for _ in data_res]\n",
    "per_wino = [[] for _ in data_res]\n",
    "rec_wino = [[] for _ in data_res]\n",
    "iou_wino = [[] for _ in data_res]\n",
    "wino_cid = []\n",
    "wono_cid = []\n",
    "cam_x = defaultdict(list)\n",
    "res_traj = defaultdict(list)\n",
    "grth_traj = defaultdict(list)\n",
    "itrns = defaultdict(list)\n",
    "unins = defaultdict(list)\n",
    "for i in tqdm(range(nums)):\n",
    "    for file_idx, file in enumerate(data_res):\n",
    "        if not '/' in file:\n",
    "            data_pred, data_cams, data_grth = res_data(file)\n",
    "            vid = i\n",
    "\n",
    "            od_clip = nodeid2token.decode(data_cams[vid])\n",
    "            od_clip = list(map(int,\n",
    "                            [i for i in od_clip.split(\" \") if i[0] != '<']))\n",
    "\n",
    "            ans = nodeid2token.decode(data_grth[vid])\n",
    "            gt_traj = list(map(int, [i for i in ans.split(\" \") if i[0] != '<']))\n",
    "            if file_idx == 0:\n",
    "                ans = od_clip\n",
    "                gen_traj = ans\n",
    "            else:\n",
    "                ans = nodeid2token.decode(data_pred[vid])\n",
    "                gen_traj = list(map(int, [i for i in ans.split(\" \") if i[0] != '<']))\n",
    "            # print(gen_traj)\n",
    "            gen_traj_refine = [] if len(set(gen_traj)) > 1 else ox.shortest_path(\n",
    "                G, gt_traj[0], gt_traj[1], weight='length')\n",
    "            if len(set(gen_traj)) > 1:\n",
    "                # paths = None\n",
    "                for j in range(len(gen_traj) - 1):\n",
    "                    paths = ox.shortest_path(G,\n",
    "                                            gen_traj[j],\n",
    "                                            gen_traj[j + 1],\n",
    "                                            weight='length')\n",
    "                    if not paths:\n",
    "                        break\n",
    "                    if od_clip[-1] in paths:\n",
    "                        ix = len(paths) - paths[::-1].index(od_clip[-1])\n",
    "                        gen_traj_refine.extend(paths[:ix])\n",
    "                        break\n",
    "                    if j == len(gen_traj) - 2:\n",
    "                        gen_traj_refine.extend(paths)\n",
    "                    else:\n",
    "                        gen_traj_refine.extend(paths[:-1])\n",
    "            # lens = len(gen_traj_refine)\n",
    "            # tmp = gen_traj_refine[:]\n",
    "            for n in gen_traj_refine[::-1]:\n",
    "                if n in od_clip:\n",
    "                    break\n",
    "                gen_traj_refine.pop(-1)\n",
    "            res_traj[file_idx].append(gen_traj_refine)\n",
    "            grth_traj[file_idx].append(gt_traj)\n",
    "            cam_x[file_idx].append(od_clip)\n",
    "            # if 'shortest_path' in data_res[file_idx]:\n",
    "            #     gen_traj_refine = gen_traj\n",
    "            ints = set(gen_traj_refine) & set(gt_traj)\n",
    "            unin = set(gen_traj_refine) | set(gt_traj)\n",
    "            itrns[file_idx].append(ints)\n",
    "            unins[file_idx].append(unin)\n",
    "            if len(set(od_clip) - (set(gt_traj) & set(od_clip))) < 3:\n",
    "                per_wono[file_idx].append(\n",
    "                    len(ints) * 1. / (len(set(gen_traj_refine)) + 1e-8))\n",
    "                iou_wono[file_idx].append(len(ints) * 1. / len(set(unin)))\n",
    "                rec_wono[file_idx].append(len(ints) * 1. / len(set(gt_traj)))\n",
    "                if file_idx == 2:\n",
    "                    wono_cid.append(vid)\n",
    "            else:\n",
    "\n",
    "                per_wino[file_idx].append(\n",
    "                    len(ints) * 1. / (len(set(gen_traj_refine)) + 1e-8))\n",
    "                iou_wino[file_idx].append(len(ints) * 1. / len(set(unin)))\n",
    "                rec_wino[file_idx].append(\n",
    "                    len(ints) * 1. / (len(set(gt_traj)) + 1e-8))\n",
    "                if file_idx == 2:\n",
    "                    wino_cid.append(vid)\n",
    "            percision[file_idx].append(\n",
    "                len(ints) * 1. / (len(set(gen_traj_refine)) + 1e-8))\n",
    "            iou[file_idx].append(len(ints) * 1. / len(set(unin)))\n",
    "            recall[file_idx].append(len(ints) * 1. / (len(set(gt_traj)) + 1e-8))\n",
    "        else:\n",
    "            data_pred, data_cams, data_grth = res_data2(file)\n",
    "            vid = i\n",
    "            # if vid == 19:\n",
    "            #     continue\n",
    "            od_clip = data_cams[vid]\n",
    "            ans = data_grth[vid]\n",
    "            gt_traj = data_grth[vid]\n",
    "\n",
    "            ans = data_pred[vid]\n",
    "            gen_traj = ans\n",
    "            # print(gen_traj)\n",
    "            # print(gt_traj)\n",
    "            gen_traj_refine = [] if len(set(gen_traj)) > 1 else nx.shortest_path(\n",
    "                G, gt_traj[0], gt_traj[1], weight='length')\n",
    "            if len(set(gen_traj)) > 1:\n",
    "                # paths = None\n",
    "                for j in range(len(gen_traj) - 1):\n",
    "                    paths = ox.shortest_path(G,\n",
    "                                            gen_traj[j],\n",
    "                                            gen_traj[j + 1],\n",
    "                                            weight='length')\n",
    "                    if not paths:\n",
    "                        break\n",
    "                    if od_clip[-1] in paths:\n",
    "                        ix = len(paths) - paths[::-1].index(od_clip[-1])\n",
    "                        gen_traj_refine.extend(paths[:ix])\n",
    "                        break\n",
    "                    if j == len(gen_traj) - 2:\n",
    "                        gen_traj_refine.extend(paths)\n",
    "                    else:\n",
    "                        gen_traj_refine.extend(paths[:-1])\n",
    "            gen_o = 0\n",
    "            gen_d = len(gen_traj_refine)\n",
    "            if od_clip[0] in gen_traj_refine:\n",
    "                gen_o = gen_traj_refine.index(od_clip[0])\n",
    "            if od_clip[-1] in gen_traj_refine:\n",
    "                gen_d = len(gen_traj_refine) - gen_traj_refine[::-1].index(\n",
    "                    od_clip[-1])\n",
    "            if gen_d > gen_o:\n",
    "                gen_traj_refine = gen_traj_refine[gen_o:gen_d]\n",
    "            res_traj[file_idx].append(gen_traj_refine)\n",
    "            grth_traj[file_idx].append(gt_traj)\n",
    "            cam_x[file_idx].append(od_clip)\n",
    "            # if 'shortest_path' in data_res[file_idx]:\n",
    "            #     gen_traj_refine = gen_traj\n",
    "            ints = set(gen_traj_refine) & set(gt_traj)\n",
    "            unin = set(gen_traj_refine) | set(gt_traj)\n",
    "            itrns[file_idx].append(ints)\n",
    "            unins[file_idx].append(unin)\n",
    "            if len(set(od_clip) - (set(gt_traj) & set(od_clip))) < 1:\n",
    "                per_wono[file_idx].append(\n",
    "                    len(ints) * 1. / (len(set(gen_traj_refine)) + 1e-8))\n",
    "                iou_wono[file_idx].append(len(ints) * 1. / len(set(unin)))\n",
    "                rec_wono[file_idx].append(len(ints) * 1. / len(set(gt_traj)))\n",
    "                if file_idx == 1:\n",
    "                    wono_cid.append(vid)\n",
    "            else:\n",
    "\n",
    "                per_wino[file_idx].append(\n",
    "                    len(ints) * 1. / (len(set(gen_traj_refine)) + 1e-8))\n",
    "                iou_wino[file_idx].append(len(ints) * 1. / len(set(unin)))\n",
    "                rec_wino[file_idx].append(\n",
    "                    len(ints) * 1. / (len(set(gt_traj)) + 1e-8))\n",
    "                if file_idx == 1:\n",
    "                    wino_cid.append(vid)\n",
    "            percision[file_idx].append(\n",
    "                len(ints) * 1. / (len(set(gen_traj_refine)) + 1e-8))\n",
    "            iou[file_idx].append(len(ints) * 1. / len(set(unin)))\n",
    "            recall[file_idx].append(len(ints) * 1. / (len(set(gt_traj)) + 1e-8))\n",
    "# pickle.dump(\n",
    "#     {\n",
    "#         'pred': res_traj,\n",
    "#         'grth': grth_traj,\n",
    "#         'cam_x': cam_x,\n",
    "#     }, open(configs['save_path'] + 'vi_traj.pkl', 'wb'))\n"
   ]
  },
  {
   "cell_type": "code",
   "execution_count": 8,
   "metadata": {},
   "outputs": [
    {
     "name": "stdout",
     "output_type": "stream",
     "text": [
      "[0.8606186069270081, 0.8641051763623842, 0.9017083339581204, 0.7998679476383014, 0.8957872620386831]\n",
      "[0.9197220675593911, 0.8996063891395631, 0.8912515162040553, 0.9134072021130782, 0.9235442721613996]\n",
      "[0.8242757222106295, 0.8106001587811753, 0.8385775760587992, 0.7568854570767427, 0.851813318742058]\n"
     ]
    }
   ],
   "source": [
    "print([sum(percision[i]) / len(percision[i]) for i in range(len(data_res))])\n",
    "print([sum(recall[i]) / len(recall[i]) for i in range(len(data_res))])\n",
    "print([sum(iou[i]) / len(iou[i]) for i in range(len(data_res))])"
   ]
  }
 ],
 "metadata": {
  "kernelspec": {
   "display_name": "Python 3 (ipykernel)",
   "language": "python",
   "name": "python3"
  },
  "language_info": {
   "codemirror_mode": {
    "name": "ipython",
    "version": 3
   },
   "file_extension": ".py",
   "mimetype": "text/x-python",
   "name": "python",
   "nbconvert_exporter": "python",
   "pygments_lexer": "ipython3",
   "version": "3.9.13"
  },
  "orig_nbformat": 4,
  "vscode": {
   "interpreter": {
    "hash": "16f58ff8490516d88e09524762eeeab83bc0547a69e94dee008ff202706f3452"
   }
  }
 },
 "nbformat": 4,
 "nbformat_minor": 2
}
